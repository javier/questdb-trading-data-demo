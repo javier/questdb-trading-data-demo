{
 "cells": [
  {
   "cell_type": "code",
   "execution_count": null,
   "id": "48b9e724-0aa3-43e7-b04c-97796f40f87b",
   "metadata": {},
   "outputs": [],
   "source": [
    "!pip install cryptofeed"
   ]
  },
  {
   "cell_type": "code",
   "execution_count": 17,
   "id": "4da4da3e-87a1-4102-9606-1bf72e64c404",
   "metadata": {},
   "outputs": [],
   "source": [
    "#\n",
    "# This product based on cryptofeed https://github.com/bmoscon/cryptofeed software developed by Bryant Moscon (http://www.bryantmoscon.com/) Copyright (C) 2017-2022 Bryant Moscon - bmoscon@gmail.com\n",
    "#\n",
    "\n",
    "import multiprocessing\n",
    "import os\n",
    "import argparse\n",
    "from datetime import datetime\n",
    "\n",
    "\n",
    "import ipywidgets as widgets\n",
    "from IPython.display import display\n",
    "import threading\n",
    "import time\n",
    "from cryptofeed import FeedHandler\n",
    "from cryptofeed.backends.backend import BackendCallback\n",
    "from cryptofeed.backends.socket import SocketCallback\n",
    "from cryptofeed.defines import TRADES\n",
    "from cryptofeed.exchanges import OKX\n",
    "\n",
    "QUEST_HOST = 'questdb'\n",
    "QUEST_PORT = 9009\n",
    "\n",
    "class QuestCallback(SocketCallback):\n",
    "    def __init__(self, host='host.docker.internal', port=9009, **kwargs):\n",
    "        super().__init__(f\"tcp://{host}\", port=port, **kwargs)\n",
    "        self.numeric_type = float\n",
    "        self.none_to = None\n",
    "\n",
    "    async def writer(self):\n",
    "        while True:\n",
    "            try:\n",
    "                await self.connect()\n",
    "            except Exception as e:\n",
    "                print(\"Connection error:\", e)\n",
    "                break\n",
    "            async with self.read_queue() as update:\n",
    "                update = \"\\n\".join(update) + \"\\n\"\n",
    "                try:\n",
    "                    self.conn.write(update.encode())\n",
    "                except Exception as e:\n",
    "                    print(\"Write error:\", e)\n",
    "                    break  \n",
    "\n",
    "class TradeQuest(QuestCallback, BackendCallback):\n",
    "    default_key = 'trades'\n",
    "\n",
    "    async def write(self, data):\n",
    "        update = f'{self.key},symbol={data[\"symbol\"]},side={data[\"side\"]} price={data[\"price\"]},amount={data[\"amount\"]} {int(data[\"timestamp\"] * 1_000_000_000)}'\n",
    "        await self.queue.put(update)\n",
    "        \n",
    "def run_feed():\n",
    "    # In a separate process, we don't need to worry about Jupyter's event loop.\n",
    "    handler = FeedHandler()\n",
    "    symbols = [\n",
    "        'ADA-USDT',\n",
    "        'BTC-USDT',       \n",
    "        'ETH-BTC',\n",
    "        'ETH-USDT',\n",
    "    ]\n",
    "    \n",
    "    handler.add_feed(OKX(channels=[TRADES], symbols=symbols,\n",
    "                           callbacks={TRADES: TradeQuest(host=QUEST_HOST, port=QUEST_PORT)}))\n",
    "    handler.run()\n",
    "\n",
    "\n"
   ]
  },
  {
   "cell_type": "code",
   "execution_count": 18,
   "id": "d87486c6-db91-4a4d-94ea-d04b58680ebe",
   "metadata": {},
   "outputs": [
    {
     "data": {
      "application/vnd.jupyter.widget-view+json": {
       "model_id": "042348cec48c40c397fbf4a8a52ac28b",
       "version_major": 2,
       "version_minor": 0
      },
      "text/plain": [
       "Label(value='Feed is running...')"
      ]
     },
     "metadata": {},
     "output_type": "display_data"
    }
   ],
   "source": [
    "# Start the feed handler in a separate process.\n",
    "feed_process = multiprocessing.Process(target=run_feed)\n",
    "feed_process.start()\n",
    "\n",
    "# Create a status indicator widget\n",
    "status = widgets.Label(\"Feed is running...\")\n",
    "display(status)\n",
    "\n",
    "# Start a background thread that periodically updates the status label\n",
    "def update_status():\n",
    "    while feed_process.is_alive():\n",
    "        timestamp = datetime.now().strftime(\"%Y-%m-%d %H:%M:%S\")\n",
    "        status.value = f\"Feed is running... Last check: {timestamp}\"\n",
    "        time.sleep(1)\n",
    "    status.value = \"Feed stopped.\"\n",
    "\n",
    "threading.Thread(target=update_status, daemon=True).start()\n"
   ]
  },
  {
   "cell_type": "code",
   "execution_count": 19,
   "id": "d9120c8b-b021-4a54-880a-58ef9ccefb17",
   "metadata": {},
   "outputs": [],
   "source": [
    "feed_process.terminate()"
   ]
  },
  {
   "cell_type": "code",
   "execution_count": null,
   "id": "f22e4aed-284d-4b4b-a054-b6cf918927ca",
   "metadata": {},
   "outputs": [],
   "source": []
  }
 ],
 "metadata": {
  "kernelspec": {
   "display_name": "Python 3 (ipykernel)",
   "language": "python",
   "name": "python3"
  },
  "language_info": {
   "codemirror_mode": {
    "name": "ipython",
    "version": 3
   },
   "file_extension": ".py",
   "mimetype": "text/x-python",
   "name": "python",
   "nbconvert_exporter": "python",
   "pygments_lexer": "ipython3",
   "version": "3.11.6"
  }
 },
 "nbformat": 4,
 "nbformat_minor": 5
}
